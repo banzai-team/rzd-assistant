{
 "cells": [
  {
   "cell_type": "code",
   "execution_count": null,
   "outputs": [],
   "source": [
    "!pip install chromadb\n",
    "!pip install langchain\n",
    "!pip install sentence-transformers"
   ],
   "metadata": {
    "collapsed": false
   }
  },
  {
   "cell_type": "code",
   "execution_count": null,
   "outputs": [],
   "source": [
    "!CMAKE_ARGS=\"-DLLAMA_METAL=on\" FORCE_CMAKE=1 pip install -U llama-cpp-python --no-cache-dir"
   ],
   "metadata": {
    "collapsed": false
   }
  },
  {
   "cell_type": "code",
   "execution_count": null,
   "outputs": [],
   "source": [
    "model_path = '/Users/jamakase/Downloads/ggml-model-q4_K.gguf'\n",
    "n_gpu_layers = 1  # Metal set to 1 is enough.\n",
    "n_batch = 512  # Should be between 1 and n_ctx, consider the amount of RAM of your Apple Silicon Chip.\n"
   ],
   "metadata": {
    "collapsed": false
   }
  },
  {
   "cell_type": "code",
   "execution_count": null,
   "outputs": [],
   "source": [
    "\n",
    "\n",
    "from llama_cpp import Llama\n",
    "from langchain.callbacks.manager import CallbackManager\n",
    "from langchain.callbacks.streaming_stdout import StreamingStdOutCallbackHandler\n",
    "\n",
    "callback_manager = CallbackManager([StreamingStdOutCallbackHandler()])\n",
    "\n",
    "# Make sure the model path is correct for your system!\n",
    "llm = Llama(\n",
    "    model_path=model_path,\n",
    "    n_gpu_layers=n_gpu_layers,\n",
    "    n_batch=n_batch,\n",
    "    n_ctx=2048,\n",
    "    f16_kv=True,  # MUST set to True, otherwise you will run into problem after a couple of calls\n",
    "    # callback_manager=callback_manager,\n",
    "    verbose=True,\n",
    ")"
   ],
   "metadata": {
    "collapsed": false
   }
  },
  {
   "cell_type": "code",
   "execution_count": null,
   "outputs": [],
   "source": [
    "from langchain.embeddings.huggingface import HuggingFaceEmbeddings\n",
    "from langchain.document_loaders import TextLoader, CSVLoader\n",
    "from langchain.text_splitter import CharacterTextSplitter, RecursiveCharacterTextSplitter\n",
    "from langchain.vectorstores import Chroma\n",
    "\n",
    "embedder_name = \"sentence-transformers/paraphrase-multilingual-mpnet-base-v2\"\n",
    "\n",
    "embeddings = HuggingFaceEmbeddings(model_name=embedder_name)\n",
    "\n",
    "loader = TextLoader(file_path='test.txt')\n",
    "documents = loader.load()\n",
    "text_splitter = RecursiveCharacterTextSplitter(chunk_size=400, chunk_overlap=100)\n",
    "\n",
    "SYSTEM_PROMPT = \"Ты — Сайга, русскоязычный автоматический ассистент. Ты разговариваешь с людьми и помогаешь им.\"\n",
    "SYSTEM_TOKEN = 1788\n",
    "USER_TOKEN = 1404\n",
    "BOT_TOKEN = 9225\n",
    "LINEBREAK_TOKEN = 13\n",
    "\n",
    "ROLE_TOKENS = {\n",
    "    \"user\": USER_TOKEN,\n",
    "    \"bot\": BOT_TOKEN,\n",
    "    \"system\": SYSTEM_TOKEN\n",
    "}\n",
    "\n",
    "\n",
    "def get_message_tokens(model, role, content):\n",
    "    message_tokens = model.tokenize(content.encode(\"utf-8\"))\n",
    "    message_tokens.insert(1, ROLE_TOKENS[role])\n",
    "    message_tokens.insert(2, LINEBREAK_TOKEN)\n",
    "    message_tokens.append(model.token_eos())\n",
    "    return message_tokens\n",
    "\n",
    "\n",
    "def get_system_tokens(model):\n",
    "    system_message = {\"role\": \"system\", \"content\": SYSTEM_PROMPT}\n",
    "    return get_message_tokens(model, **system_message)\n",
    "\n",
    "\n",
    "def process_text(text):\n",
    "    lines = text.split(\"\\n\")\n",
    "    lines = [line for line in lines if len(line.strip()) > 2]\n",
    "    text = \"\\n\".join(lines).strip()\n",
    "    if len(text) < 10:\n",
    "        return None\n",
    "    return text\n",
    "\n",
    "\n",
    "splitted_docs = text_splitter.split_documents(documents)\n",
    "fixed_documents = []\n",
    "for doc in documents:\n",
    "    doc.page_content = process_text(doc.page_content)\n",
    "    if not doc.page_content:\n",
    "        continue\n",
    "    fixed_documents.append(doc)\n",
    "# text_splitter = CharacterTextSplitter(chunk_size=1000, chunk_overlap=0)\n",
    "# texts = text_splitter.split_documents(documents)\n",
    "\n",
    "docsearch = Chroma.from_documents(fixed_documents, embeddings)\n",
    "file_warning = f\"Загружено {len(fixed_documents)} фрагментов! Можно задавать вопросы.\"\n",
    "\n",
    "file_warning\n",
    "# retriever = docsearch.as_retriever()"
   ],
   "metadata": {
    "collapsed": false
   }
  },
  {
   "cell_type": "code",
   "execution_count": null,
   "outputs": [],
   "source": [
    "query = '''Как мне быть, если при установки штурвала контроллера на первую позицию тепловоз не едет'''\n",
    "\n",
    "# retriever.get_relevant_documents(query)\n",
    "\n",
    "# qa = RetrievalQA.from_chain_type(llm=llm, chain_type=\"stuff\", retriever=retriever)\n",
    "# qa.run(query)\n",
    "\n",
    "model = llm\n",
    "\n",
    "max_new_tokens = 1500\n",
    "chat_history = [[query]]\n",
    "\n",
    "\n",
    "def retrieve(history, db, retrieved_docs, k_documents):\n",
    "    context = \"\"\n",
    "    if db:\n",
    "        last_user_message = history[-1][0]\n",
    "        retriever = db.as_retriever(search_kwargs={\"k\": k_documents})\n",
    "        docs = retriever.get_relevant_documents(last_user_message)\n",
    "        retrieved_docs = \"\\n\\n\".join([doc.page_content for doc in docs])\n",
    "    return retrieved_docs\n",
    "\n",
    "\n",
    "retireved_docs = retrieve(chat_history, docsearch, [], 5)\n",
    "\n",
    "last_user_message=chat_history[-1][0]\n",
    "if retireved_docs:\n",
    "    last_user_message = f\"Контекст: {retireved_docs}\\n\\nИспользуя контекст, ответь на вопрос: {last_user_message}\"\n",
    "tokens = get_system_tokens(model)[:]\n",
    "tokens.append(LINEBREAK_TOKEN)\n",
    "role_tokens = [model.token_bos(), BOT_TOKEN, LINEBREAK_TOKEN]\n",
    "tokens.extend(role_tokens)\n",
    "\n",
    "generator = model.generate(\n",
    "    tokens,\n",
    "    top_k=30,\n",
    "    top_p=0.9,\n",
    "    temp=0.1\n",
    ")\n",
    "\n",
    "message_tokens = get_message_tokens(model=model, role=\"user\", content=last_user_message)\n",
    "tokens.extend(message_tokens)\n",
    "\n",
    "partial_text = \"\"\n",
    "for i, token in enumerate(generator):\n",
    "    if token == model.token_eos() or (max_new_tokens is not None and i >= max_new_tokens):\n",
    "        break\n",
    "    partial_text += model.detokenize([token]).decode(\"utf-8\", \"ignore\")\n",
    "    # chat_history[-1][1] = partial_text\n",
    "    # yield history\n",
    "\n",
    "partial_text"
   ],
   "metadata": {
    "collapsed": false
   }
  },
  {
   "cell_type": "code",
   "execution_count": null,
   "outputs": [],
   "source": [],
   "metadata": {
    "collapsed": false
   }
  }
 ],
 "metadata": {
  "kernelspec": {
   "display_name": "Python 3",
   "language": "python",
   "name": "python3"
  },
  "language_info": {
   "codemirror_mode": {
    "name": "ipython",
    "version": 2
   },
   "file_extension": ".py",
   "mimetype": "text/x-python",
   "name": "python",
   "nbconvert_exporter": "python",
   "pygments_lexer": "ipython2",
   "version": "2.7.6"
  }
 },
 "nbformat": 4,
 "nbformat_minor": 0
}
